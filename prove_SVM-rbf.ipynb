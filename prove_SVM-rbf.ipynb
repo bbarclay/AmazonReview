{
 "cells": [
  {
   "cell_type": "code",
   "execution_count": 1,
   "metadata": {
    "colab": {
     "base_uri": "https://localhost:8080/",
     "height": 763
    },
    "colab_type": "code",
    "id": "5wiAuLLGr2F4",
    "outputId": "7e811224-f07e-49f5-92a3-ad8f3f0761aa"
   },
   "outputs": [
    {
     "data": {
      "text/html": [
       "<div>\n",
       "<style scoped>\n",
       "    .dataframe tbody tr th:only-of-type {\n",
       "        vertical-align: middle;\n",
       "    }\n",
       "\n",
       "    .dataframe tbody tr th {\n",
       "        vertical-align: top;\n",
       "    }\n",
       "\n",
       "    .dataframe thead th {\n",
       "        text-align: right;\n",
       "    }\n",
       "</style>\n",
       "<table border=\"1\" class=\"dataframe\">\n",
       "  <thead>\n",
       "    <tr style=\"text-align: right;\">\n",
       "      <th></th>\n",
       "      <th>text</th>\n",
       "      <th>utility</th>\n",
       "      <th>actual</th>\n",
       "      <th>anoth</th>\n",
       "      <th>awesom</th>\n",
       "      <th>back</th>\n",
       "      <th>bad</th>\n",
       "      <th>best</th>\n",
       "      <th>big</th>\n",
       "      <th>bit</th>\n",
       "      <th>...</th>\n",
       "      <th>time</th>\n",
       "      <th>tri</th>\n",
       "      <th>version</th>\n",
       "      <th>way</th>\n",
       "      <th>weapon</th>\n",
       "      <th>well</th>\n",
       "      <th>work</th>\n",
       "      <th>world</th>\n",
       "      <th>worth</th>\n",
       "      <th>year</th>\n",
       "    </tr>\n",
       "  </thead>\n",
       "  <tbody>\n",
       "    <tr>\n",
       "      <th>0</th>\n",
       "      <td>'pay unlock content think instal game struggl ...</td>\n",
       "      <td>0</td>\n",
       "      <td>0.0</td>\n",
       "      <td>0.058</td>\n",
       "      <td>0.00</td>\n",
       "      <td>0.0</td>\n",
       "      <td>0.0</td>\n",
       "      <td>0.00</td>\n",
       "      <td>0.0</td>\n",
       "      <td>0.0</td>\n",
       "      <td>...</td>\n",
       "      <td>0.000</td>\n",
       "      <td>0.00</td>\n",
       "      <td>0.000</td>\n",
       "      <td>0.0</td>\n",
       "      <td>0.0</td>\n",
       "      <td>0.000</td>\n",
       "      <td>0.000</td>\n",
       "      <td>0.0</td>\n",
       "      <td>0.000</td>\n",
       "      <td>0.000</td>\n",
       "    </tr>\n",
       "    <tr>\n",
       "      <th>1</th>\n",
       "      <td>'good ralli game like ralli car get game fun o...</td>\n",
       "      <td>0</td>\n",
       "      <td>0.0</td>\n",
       "      <td>0.000</td>\n",
       "      <td>0.00</td>\n",
       "      <td>0.0</td>\n",
       "      <td>0.0</td>\n",
       "      <td>0.08</td>\n",
       "      <td>0.0</td>\n",
       "      <td>0.0</td>\n",
       "      <td>...</td>\n",
       "      <td>0.000</td>\n",
       "      <td>0.00</td>\n",
       "      <td>0.000</td>\n",
       "      <td>0.0</td>\n",
       "      <td>0.0</td>\n",
       "      <td>0.000</td>\n",
       "      <td>0.084</td>\n",
       "      <td>0.0</td>\n",
       "      <td>0.000</td>\n",
       "      <td>0.000</td>\n",
       "    </tr>\n",
       "    <tr>\n",
       "      <th>2</th>\n",
       "      <td>'wrong key shipment receiv book instead game s...</td>\n",
       "      <td>0</td>\n",
       "      <td>0.0</td>\n",
       "      <td>0.000</td>\n",
       "      <td>0.00</td>\n",
       "      <td>0.0</td>\n",
       "      <td>0.0</td>\n",
       "      <td>0.00</td>\n",
       "      <td>0.0</td>\n",
       "      <td>0.0</td>\n",
       "      <td>...</td>\n",
       "      <td>0.000</td>\n",
       "      <td>0.00</td>\n",
       "      <td>0.000</td>\n",
       "      <td>0.0</td>\n",
       "      <td>0.0</td>\n",
       "      <td>0.000</td>\n",
       "      <td>0.000</td>\n",
       "      <td>0.0</td>\n",
       "      <td>0.000</td>\n",
       "      <td>0.000</td>\n",
       "    </tr>\n",
       "    <tr>\n",
       "      <th>3</th>\n",
       "      <td>'awesom game crash frequent got version instea...</td>\n",
       "      <td>1</td>\n",
       "      <td>0.0</td>\n",
       "      <td>0.000</td>\n",
       "      <td>0.03</td>\n",
       "      <td>0.0</td>\n",
       "      <td>0.0</td>\n",
       "      <td>0.00</td>\n",
       "      <td>0.0</td>\n",
       "      <td>0.0</td>\n",
       "      <td>...</td>\n",
       "      <td>0.073</td>\n",
       "      <td>0.05</td>\n",
       "      <td>0.152</td>\n",
       "      <td>0.0</td>\n",
       "      <td>0.0</td>\n",
       "      <td>0.021</td>\n",
       "      <td>0.024</td>\n",
       "      <td>0.0</td>\n",
       "      <td>0.028</td>\n",
       "      <td>0.054</td>\n",
       "    </tr>\n",
       "    <tr>\n",
       "      <th>4</th>\n",
       "      <td>'dirt dirt okay game start play game laptop bo...</td>\n",
       "      <td>1</td>\n",
       "      <td>0.0</td>\n",
       "      <td>0.000</td>\n",
       "      <td>0.00</td>\n",
       "      <td>0.0</td>\n",
       "      <td>0.0</td>\n",
       "      <td>0.00</td>\n",
       "      <td>0.0</td>\n",
       "      <td>0.0</td>\n",
       "      <td>...</td>\n",
       "      <td>0.000</td>\n",
       "      <td>0.00</td>\n",
       "      <td>0.000</td>\n",
       "      <td>0.0</td>\n",
       "      <td>0.0</td>\n",
       "      <td>0.000</td>\n",
       "      <td>0.000</td>\n",
       "      <td>0.0</td>\n",
       "      <td>0.000</td>\n",
       "      <td>0.000</td>\n",
       "    </tr>\n",
       "  </tbody>\n",
       "</table>\n",
       "<p>5 rows × 102 columns</p>\n",
       "</div>"
      ],
      "text/plain": [
       "                                                text  utility  actual  anoth  \\\n",
       "0  'pay unlock content think instal game struggl ...        0     0.0  0.058   \n",
       "1  'good ralli game like ralli car get game fun o...        0     0.0  0.000   \n",
       "2  'wrong key shipment receiv book instead game s...        0     0.0  0.000   \n",
       "3  'awesom game crash frequent got version instea...        1     0.0  0.000   \n",
       "4  'dirt dirt okay game start play game laptop bo...        1     0.0  0.000   \n",
       "\n",
       "   awesom  back  bad  best  big  bit  ...   time   tri  version  way  weapon  \\\n",
       "0    0.00   0.0  0.0  0.00  0.0  0.0  ...  0.000  0.00    0.000  0.0     0.0   \n",
       "1    0.00   0.0  0.0  0.08  0.0  0.0  ...  0.000  0.00    0.000  0.0     0.0   \n",
       "2    0.00   0.0  0.0  0.00  0.0  0.0  ...  0.000  0.00    0.000  0.0     0.0   \n",
       "3    0.03   0.0  0.0  0.00  0.0  0.0  ...  0.073  0.05    0.152  0.0     0.0   \n",
       "4    0.00   0.0  0.0  0.00  0.0  0.0  ...  0.000  0.00    0.000  0.0     0.0   \n",
       "\n",
       "    well   work  world  worth   year  \n",
       "0  0.000  0.000    0.0  0.000  0.000  \n",
       "1  0.000  0.084    0.0  0.000  0.000  \n",
       "2  0.000  0.000    0.0  0.000  0.000  \n",
       "3  0.021  0.024    0.0  0.028  0.054  \n",
       "4  0.000  0.000    0.0  0.000  0.000  \n",
       "\n",
       "[5 rows x 102 columns]"
      ]
     },
     "execution_count": 1,
     "metadata": {},
     "output_type": "execute_result"
    }
   ],
   "source": [
    "import pandas as pd\n",
    "import numpy as np\n",
    "\n",
    "df=pd.read_csv('data/reviews_Video_Games_5-data_frame.csv')\n",
    "df.head()"
   ]
  },
  {
   "cell_type": "code",
   "execution_count": 2,
   "metadata": {
    "colab": {},
    "colab_type": "code",
    "id": "f23xfL56qpDZ"
   },
   "outputs": [],
   "source": [
    "#To divide the data into attributes and labels, execute the following code:\n",
    "#In the first line of the script above, all the columns of the bankdata dataframe are being stored in \n",
    "#the X variable except the \"Class\" column, \n",
    "#which is the label column. The drop() method drops this column. In the second line, only the class \n",
    "#column is being stored in the y variable. \n",
    "#At this point of time X variable contains attributes while y variable contains corresponding labels.\n",
    "X = df.drop('utility', axis=1).drop('text', axis=1)\n",
    "y = df['utility']"
   ]
  },
  {
   "cell_type": "code",
   "execution_count": 3,
   "metadata": {
    "colab": {},
    "colab_type": "code",
    "id": "bHO27DyRqpDc"
   },
   "outputs": [],
   "source": [
    "#the model_selection library of the Scikit-Learn library contains the train_test_split method that allows us \n",
    "#to seamlessly divide data into training and test sets.\n",
    "from sklearn.model_selection import train_test_split\n",
    "X_train, X_test, y_train, y_test = train_test_split(X, y, test_size = 0.20)"
   ]
  },
  {
   "cell_type": "code",
   "execution_count": 4,
   "metadata": {
    "colab": {},
    "colab_type": "code",
    "id": "HTMGe-ivrVrO"
   },
   "outputs": [
    {
     "name": "stdout",
     "output_type": "stream",
     "text": [
      "Tempo trascorso: 78086.0534658432 secondi\n"
     ]
    }
   ],
   "source": [
    "import time\n",
    "\n",
    "#In the case of a simple SVM we simply set this parameter as \"linear\" since simple SVMs can only classify linearly separable data.\n",
    "from sklearn.svm import SVC\n",
    "\n",
    "start = time.time()\n",
    "\n",
    "svclassifier = SVC(kernel='rbf', gamma=1, C=10) #Linear Kernel (linear); Polynomial K. (poly); Gaussian K. (rbf); Sigmoid K. (sigmoid)\n",
    "svclassifier.fit(X_train, y_train)\n",
    "\n",
    "end = time.time()\n",
    "print(\"Tempo trascorso:\",end-start,\"secondi\")"
   ]
  },
  {
   "cell_type": "code",
   "execution_count": 5,
   "metadata": {
    "colab": {},
    "colab_type": "code",
    "id": "k8Ye_MLXrWri"
   },
   "outputs": [
    {
     "name": "stdout",
     "output_type": "stream",
     "text": [
      "Tempo trascorso: 4332.609048843384 secondi\n"
     ]
    }
   ],
   "source": [
    "#To make predictions, the predict method of the SVC class is used.\n",
    "\n",
    "start = time.time()\n",
    "y_pred = svclassifier.predict(X_test)\n",
    "end = time.time()\n",
    "print(\"Tempo trascorso:\",end-start,\"secondi\")"
   ]
  },
  {
   "cell_type": "code",
   "execution_count": 6,
   "metadata": {
    "colab": {},
    "colab_type": "code",
    "id": "JdE5Yr7TrYq9"
   },
   "outputs": [
    {
     "name": "stdout",
     "output_type": "stream",
     "text": [
      "[[32040   448]\n",
      " [13172   696]]\n",
      "              precision    recall  f1-score   support\n",
      "\n",
      "           0       0.71      0.99      0.82     32488\n",
      "           1       0.61      0.05      0.09     13868\n",
      "\n",
      "   micro avg       0.71      0.71      0.71     46356\n",
      "   macro avg       0.66      0.52      0.46     46356\n",
      "weighted avg       0.68      0.71      0.61     46356\n",
      "\n",
      "0.7061869013719907\n"
     ]
    }
   ],
   "source": [
    "#Evaluating the Algorithm Precision, Recall, F1 e confusion matrix\n",
    "from sklearn.metrics import classification_report, confusion_matrix, accuracy_score\n",
    "print(confusion_matrix(y_test,y_pred))\n",
    "print(classification_report(y_test,y_pred))\n",
    "print(accuracy_score(y_test,y_pred))"
   ]
  }
 ],
 "metadata": {
  "accelerator": "GPU",
  "colab": {
   "collapsed_sections": [],
   "name": "prove_SVM.ipynb",
   "provenance": [],
   "version": "0.3.2"
  },
  "kernelspec": {
   "display_name": "Python 3",
   "language": "python",
   "name": "python3"
  },
  "language_info": {
   "codemirror_mode": {
    "name": "ipython",
    "version": 3
   },
   "file_extension": ".py",
   "mimetype": "text/x-python",
   "name": "python",
   "nbconvert_exporter": "python",
   "pygments_lexer": "ipython3",
   "version": "3.7.3"
  }
 },
 "nbformat": 4,
 "nbformat_minor": 1
}
